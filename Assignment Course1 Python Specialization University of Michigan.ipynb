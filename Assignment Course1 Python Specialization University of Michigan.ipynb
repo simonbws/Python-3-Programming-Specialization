{
 "cells": [
  {
   "cell_type": "markdown",
   "id": "5706dda7",
   "metadata": {},
   "source": [
    "# Assignment Course 1 - Python Basics, Python 3 Programming Coursera Specialization/ University of Michigan\n"
   ]
  },
  {
   "cell_type": "markdown",
   "id": "a5f7c09e",
   "metadata": {},
   "source": [
    "# Task1"
   ]
  },
  {
   "cell_type": "code",
   "execution_count": 6,
   "id": "14639dc8",
   "metadata": {},
   "outputs": [],
   "source": [
    "scores = \"67 80 90 78 93 20 79 89 96 97 92 88 79 68 58 90 98 100 79 74 83 88 80 86 85 70 90 100\"\n"
   ]
  },
  {
   "cell_type": "code",
   "execution_count": 7,
   "id": "8a7b64f7",
   "metadata": {},
   "outputs": [
    {
     "name": "stdout",
     "output_type": "stream",
     "text": [
      "10\n"
     ]
    }
   ],
   "source": [
    "scores2 = 0\n",
    "\n",
    "for i in splittedScors:\n",
    "    if int(i) == 90 or int(i) > 90:\n",
    "        scores2+=1\n",
    "print(scores2)"
   ]
  },
  {
   "cell_type": "markdown",
   "id": "8fd0248c",
   "metadata": {},
   "source": [
    "# Task2"
   ]
  },
  {
   "cell_type": "code",
   "execution_count": 3,
   "id": "af5be4a9",
   "metadata": {},
   "outputs": [],
   "source": [
    "\n",
    "splittedScors = scores.split()\n",
    "stopwords = ['to', 'a', 'for', 'by', 'an', 'am', 'the', 'so', 'it', 'and', \"The\"]\n",
    "org = \"The organization for health, safety, and education\""
   ]
  },
  {
   "cell_type": "code",
   "execution_count": 5,
   "id": "de9baa2e",
   "metadata": {},
   "outputs": [
    {
     "name": "stdout",
     "output_type": "stream",
     "text": [
      "OHSE\n"
     ]
    }
   ],
   "source": [
    "org2 = org.split()\n",
    "acronym = ''\n",
    "for word in org2:\n",
    "    if word not in stopwords:\n",
    "        acronym = acronym + word[0].upper()\n",
    "print(acronym)\n"
   ]
  },
  {
   "cell_type": "markdown",
   "id": "b0aacc4e",
   "metadata": {},
   "source": [
    "# Task3"
   ]
  },
  {
   "cell_type": "code",
   "execution_count": 9,
   "id": "9058b9dd",
   "metadata": {},
   "outputs": [],
   "source": [
    "stopwords = ['to', 'a', 'for', 'by', 'an', 'am', 'the', 'so', 'it', 'and', 'The']\n",
    "sent = \"The water earth and air are vital\""
   ]
  },
  {
   "cell_type": "code",
   "execution_count": 10,
   "id": "a9772d7c",
   "metadata": {},
   "outputs": [
    {
     "name": "stdout",
     "output_type": "stream",
     "text": [
      "WA. EA. AI. AR. VI\n"
     ]
    }
   ],
   "source": [
    "sent2=sent.split()\n",
    "\n",
    "acronym =''\n",
    "\n",
    "for word in sent2:\n",
    "    if word not in stopwords:\n",
    "        acronym=acronym+word[0].upper()+word[1].upper()+'. '\n",
    "        \n",
    "\n",
    "acronym=acronym[:-2]\n",
    "\n",
    "print(acronym)"
   ]
  },
  {
   "cell_type": "markdown",
   "id": "953c374d",
   "metadata": {},
   "source": [
    "# Task4"
   ]
  },
  {
   "cell_type": "code",
   "execution_count": 11,
   "id": "07c7702f",
   "metadata": {},
   "outputs": [],
   "source": [
    "p_phrase = \"was it a car or a cat I saw\""
   ]
  },
  {
   "cell_type": "code",
   "execution_count": 12,
   "id": "18d2bdcd",
   "metadata": {},
   "outputs": [
    {
     "name": "stdout",
     "output_type": "stream",
     "text": [
      "was I tac a ro rac a ti saw\n",
      "False\n"
     ]
    }
   ],
   "source": [
    "r_phrase=''\n",
    "\n",
    "for char in p_phrase:\n",
    "    r_phrase=char+r_phrase\n",
    "    \n",
    "print(r_phrase)\n",
    "print(r_phrase==p_phrase)"
   ]
  },
  {
   "cell_type": "markdown",
   "id": "5510e625",
   "metadata": {},
   "source": [
    "# Task5"
   ]
  },
  {
   "cell_type": "code",
   "execution_count": 13,
   "id": "9656d6cd",
   "metadata": {},
   "outputs": [],
   "source": [
    "inventory = [\"shoes, 12, 29.99\", \"shirts, 20, 9.99\", \"sweatpants, 25, 15.00\", \"scarves, 13, 7.75\"]\n"
   ]
  },
  {
   "cell_type": "code",
   "execution_count": 14,
   "id": "bc443857",
   "metadata": {},
   "outputs": [
    {
     "name": "stdout",
     "output_type": "stream",
     "text": [
      "The store has 12 shoes, each for 29.99 USD.\n",
      "The store has 20 shirts, each for 9.99 USD.\n",
      "The store has 25 sweatpants, each for 15.00 USD.\n",
      "The store has 13 scarves, each for 7.75 USD.\n"
     ]
    }
   ],
   "source": [
    "for temp in inventory:\n",
    "    temp = temp.split(',')\n",
    "    str1=\"The store has{} {}, each for{} USD.\"\n",
    "    str1=str1.format(temp[1],temp[0],temp[2])\n",
    "    print(str1)"
   ]
  },
  {
   "cell_type": "code",
   "execution_count": null,
   "id": "90287a1f",
   "metadata": {},
   "outputs": [],
   "source": []
  }
 ],
 "metadata": {
  "kernelspec": {
   "display_name": "Python 3 (ipykernel)",
   "language": "python",
   "name": "python3"
  },
  "language_info": {
   "codemirror_mode": {
    "name": "ipython",
    "version": 3
   },
   "file_extension": ".py",
   "mimetype": "text/x-python",
   "name": "python",
   "nbconvert_exporter": "python",
   "pygments_lexer": "ipython3",
   "version": "3.9.12"
  }
 },
 "nbformat": 4,
 "nbformat_minor": 5
}
