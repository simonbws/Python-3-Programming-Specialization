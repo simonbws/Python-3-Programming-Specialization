{
 "cells": [
  {
   "cell_type": "markdown",
   "id": "6665bc64",
   "metadata": {},
   "source": [
    "# Python Programming 3 - Course 2 : Project Part 1: Sentiment Classifier"
   ]
  },
  {
   "cell_type": "markdown",
   "id": "ef2e9a5d",
   "metadata": {},
   "source": [
    " To start, define a function called strip_punctuation which takes one parameter, a string which represents a word, and removes characters considered punctuation from everywhere in the word. (Hint: remember the .replace() method for strings.)"
   ]
  },
  {
   "cell_type": "code",
   "execution_count": null,
   "id": "c6611025",
   "metadata": {},
   "outputs": [],
   "source": [
    "punctuation_chars = [\"'\", '\"', \",\", \".\", \"!\", \":\", \";\", '#', '@']\n",
    "def strip_punctuation(word):\n",
    "       for ch in punctuation_chars:\n",
    "            word=word.replace(ch,\"\").lower()\n",
    "            return word\n",
    "positive_words = []\n",
    "with open(\"positive_words.txt\") as pos_f:\n",
    "    for lin in pos_f:\n",
    "        if lin[0] != ';' and lin[0] != '\\n':\n",
    "            positive_words.append(lin.strip())\n",
    "def get_pos(sentence):\n",
    "    sent_lst = sentence.split(\" \")\n",
    "    new_lst_sent = []\n",
    "    for word in sent_lst:\n",
    "        word = strip_punctuation(word).lower()\n",
    "        new_lst_sent.append(word)\n",
    "    pos_count = 0\n",
    "    for word in positive_words:\n",
    "        if word in new_lst_sent:\n",
    "            pos_count = pos_count + 1\n",
    "\n",
    "negative_words = []\n",
    "with open(\"negative_words.txt\") as pos_f:\n",
    "    for lin in pos_f:\n",
    "        if lin[0] != ';' and lin[0] != '\\n':\n",
    "            negative_words.append(lin.strip())\n",
    "def get_neg(sentence):\n",
    "    sent_lst = sentence.split(\" \")\n",
    "    new_lst_sent = []\n",
    "    for word in sent_lst:\n",
    "        word = strip_punctuation(word).lower()\n",
    "        new_lst_sent.append(word)\n",
    "    neg_count = 0\n",
    "    for word in negative_words:\n",
    "        if word in new_lst_sent:\n",
    "            neg_count = neg_count + 1\n",
    "    return neg_count\n",
    "\n",
    "outfile = open(\"resulting_data.csv\", \"w\")\n",
    "outfile.write('Number of Retweets, Number of Replies, Positive Score,Negative Score, Net Score')\n",
    "outfile.write('\\n')\n",
    "\n",
    "myfile = open('project_twitter_data.csv', 'r')\n",
    "rows = myfile.readlines()[1:]\n",
    "for line in rows:\n",
    "    words = line.split()\n",
    "    numbers = words[-1]\n",
    "    twrt = numbers.split(',')\n",
    "    print ('retweets: ', twrt[1], 'replies, times : ', twrt[2])\n",
    "    pos_sco = 0\n",
    "    neg_sco = 0\n",
    "    for word in words:\n",
    "        if word in positive_words:\n",
    "            pos_sco = pos_sco + 1\n",
    "        if word in negative_words:\n",
    "            neg_sco = neg_sco + 1\n",
    "    net_sco = pos_sco - neg_sco\n",
    "    print ('Here are positive words: ', pos_sco, 'Here are negative words: ', neg_sco, 'Net score: ', net_sco )\n",
    "    row_string = '{}, {}, {}, {}, {}'.format(twrt[1], twrt[2], pos_sco, neg_sco, net_sco)\n",
    "    outfile.write(row_string)\n",
    "    outfile.write('\\n')"
   ]
  },
  {
   "cell_type": "code",
   "execution_count": null,
   "id": "4189da4d",
   "metadata": {},
   "outputs": [],
   "source": []
  }
 ],
 "metadata": {
  "kernelspec": {
   "display_name": "Python 3 (ipykernel)",
   "language": "python",
   "name": "python3"
  },
  "language_info": {
   "codemirror_mode": {
    "name": "ipython",
    "version": 3
   },
   "file_extension": ".py",
   "mimetype": "text/x-python",
   "name": "python",
   "nbconvert_exporter": "python",
   "pygments_lexer": "ipython3",
   "version": "3.9.12"
  }
 },
 "nbformat": 4,
 "nbformat_minor": 5
}
