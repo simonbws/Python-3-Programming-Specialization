{
 "cells": [
  {
   "cell_type": "markdown",
   "id": "f4bc6f15",
   "metadata": {},
   "source": [
    "This project will take you through the process of mashing up data from two different APIs to make movie recommendations. The TasteDive API lets you provide a movie (or bands, TV shows, etc.) as a query input, and returns a set of related items. The OMDB API lets you provide a movie title as a query input and get back data about the movie, including scores from various review sites (Rotten Tomatoes, IMDB, etc.).\n",
    "\n",
    "You will put those two together. You will use TasteDive to get related movies for a whole list of titles. You’ll combine the resulting lists of related movies, and sort them according to their Rotten Tomatoes scores (which will require making API calls to the OMDB API.)\n",
    "\n",
    "To avoid problems with rate limits and site accessibility, we have provided a cache file with results for all the queries you need to make to both OMDB and TasteDive. Just use requests_with_caching.get() rather than requests.get(). If you’re having trouble, you may not be formatting your queries properly, or you may not be asking for data that exists in our cache. We will try to provide as much information as we can to help guide you to form queries for which data exists in the cache.\n",
    "\n",
    "Your first task will be to fetch data from TasteDive. The documentation for the API is at https://tastedive.com/read/api.\n",
    "\n",
    "Define a function, called get_movies_from_tastedive. It should take one input parameter, a string that is the name of a movie or music artist. The function should return the 5 TasteDive results that are associated with that string; be sure to only get movies, not other kinds of media. It will be a python dictionary with just one key, ‘Similar’.\n",
    "\n",
    "Try invoking your function with the input “Black Panther”."
   ]
  },
  {
   "cell_type": "code",
   "execution_count": 15,
   "id": "54d8a39e",
   "metadata": {},
   "outputs": [
    {
     "name": "stdout",
     "output_type": "stream",
     "text": [
      "Requirement already satisfied: requests in c:\\users\\szymo\\anaconda3\\lib\\site-packages (2.27.1)\n",
      "Requirement already satisfied: idna<4,>=2.5 in c:\\users\\szymo\\anaconda3\\lib\\site-packages (from requests) (3.3)\n",
      "Requirement already satisfied: urllib3<1.27,>=1.21.1 in c:\\users\\szymo\\anaconda3\\lib\\site-packages (from requests) (1.26.9)\n",
      "Requirement already satisfied: certifi>=2017.4.17 in c:\\users\\szymo\\anaconda3\\lib\\site-packages (from requests) (2021.10.8)\n",
      "Requirement already satisfied: charset-normalizer~=2.0.0 in c:\\users\\szymo\\anaconda3\\lib\\site-packages (from requests) (2.0.4)\n",
      "Note: you may need to restart the kernel to use updated packages.\n"
     ]
    }
   ],
   "source": [
    "pip install requests\n"
   ]
  },
  {
   "cell_type": "code",
   "execution_count": null,
   "id": "9acb8422",
   "metadata": {},
   "outputs": [],
   "source": [
    "import requests_with_caching\n",
    "import json\n",
    "\n",
    "def get_movies_from_tastedive(title):\n",
    "    url = 'https://tastedive.com/api/similar'\n",
    "    param = {}\n",
    "    param['q']= title\n",
    "    param['type']= 'movies'\n",
    "    param['limit']= 5\n",
    "    \n",
    "    this_page_cache = requests_with_caching.get(url, params=param)\n",
    "    return json.loads(this_page_cache.text)\n",
    "\n",
    "    \n",
    "##get_movies_from_tastedive (\"Black Panther\")"
   ]
  },
  {
   "cell_type": "markdown",
   "id": "e66736fc",
   "metadata": {},
   "source": [
    " Please copy the completed function from above into this active code window. Next, you will need to write a function that extracts just the list of movie titles from a dictionary returned by get_movies_from_tastedive. \n",
    "Call it extract_movie_titles."
   ]
  },
  {
   "cell_type": "code",
   "execution_count": null,
   "id": "5b75fdbb",
   "metadata": {},
   "outputs": [],
   "source": [
    "import requests_with_caching\n",
    "import json\n",
    "\n",
    "\n",
    "def get_movies_from_tastedive(title):\n",
    "    endpoint = 'https://tastedive.com/api/similar'\n",
    "    param = {}\n",
    "    param['q'] = title\n",
    "    param['limit'] = 5\n",
    "    param['type'] = 'movies'\n",
    "\n",
    "    this_page_cache = requests_with_caching.get(endpoint, params=param)\n",
    "    return json.loads(this_page_cache.text)\n",
    "\n",
    "\n",
    "def extract_movie_titles(dic):\n",
    "    return ([i['Name'] for i in dic['Similar']['Results']])\n",
    "\n",
    "##extract_movie_titles(get_movies_from_tastedive(\"Black Panther\"))"
   ]
  },
  {
   "cell_type": "markdown",
   "id": "a45cb952",
   "metadata": {},
   "source": [
    "Please copy the completed functions from the two code windows above into this active code window. Next, you’ll write a function, called get_related_titles. It takes a list of movie titles as input. It gets five related movies for each from TasteDive, extracts the titles for all of them, and combines them all into a single list. Don’t include the same movie twice."
   ]
  },
  {
   "cell_type": "code",
   "execution_count": null,
   "id": "1b172256",
   "metadata": {},
   "outputs": [],
   "source": [
    "import requests_with_caching\n",
    "import json\n",
    "\n",
    "\n",
    "def get_movies_from_tastedive(title):\n",
    "    endpoint = 'https://tastedive.com/api/similar'\n",
    "    param = {}\n",
    "    param['q'] = title\n",
    "    param['limit'] = 5\n",
    "    param['type'] = 'movies'\n",
    "\n",
    "    this_page_cache = requests_with_caching.get(endpoint, params=param)\n",
    "    return json.loads(this_page_cache.text)\n",
    "\n",
    "\n",
    "def extract_movie_titles(dic):\n",
    "    return ([i['Name'] for i in dic['Similar']['Results']])\n",
    "\n",
    "\n",
    "def get_related_titles(movie_list):\n",
    "    li = []\n",
    "    for movie in movie_list:\n",
    "        li.extend(extract_movie_titles(get_movies_from_tastedive(movie)))\n",
    "    return list(set(li))\n",
    "\n",
    "\n",
    "get_related_titles([\"Black Panther\"])"
   ]
  },
  {
   "cell_type": "markdown",
   "id": "4fb1d7ad",
   "metadata": {},
   "source": [
    "Your next task will be to fetch data from OMDB. The documentation for the API is at https://www.omdbapi.com/\n",
    "\n",
    "Define a function called get_movie_data. It takes in one parameter which is a string that should represent the title of a movie you want to search. The function should return a dictionary with information about that movie.\n",
    "\n",
    "Again, use requests_with_caching.get(). For the queries on movies that are already in the cache, you won’t need an api key. You will need to provide the following keys: t and r. As with the TasteDive cache, be sure to only include those two parameters in order to extract existing data from the cache."
   ]
  },
  {
   "cell_type": "code",
   "execution_count": null,
   "id": "3fa09092",
   "metadata": {},
   "outputs": [],
   "source": [
    "pip install requests\n"
   ]
  },
  {
   "cell_type": "code",
   "execution_count": null,
   "id": "eee946f0",
   "metadata": {},
   "outputs": [],
   "source": [
    "import requests_with_caching\n",
    "import json\n",
    "\n",
    "\n",
    "def get_movie_data(title):\n",
    "    endpoint = 'http://www.omdbapi.com/'\n",
    "    param = {}\n",
    "    param['t'] = title\n",
    "    param['r'] = 'json'\n",
    "    this_page_cache = requests_with_caching.get(endpoint, params=param)\n",
    "\n",
    "    return json.loads(this_page_cache.text)\n",
    "\n",
    "\n",
    "get_movie_data(\"Venom\")\n",
    "get_movie_data(\"Baby Mama\")"
   ]
  },
  {
   "cell_type": "markdown",
   "id": "58050e03",
   "metadata": {},
   "source": [
    "Please copy the completed function from above into this active code window. Now write a function called get_movie_rating. It takes an OMDB dictionary result for one movie and extracts the Rotten Tomatoes rating as an integer. For example, if given the OMDB dictionary for “Black Panther”, it would return 97. If there is no Rotten Tomatoes rating, return 0."
   ]
  },
  {
   "cell_type": "code",
   "execution_count": null,
   "id": "b5cfd1d0",
   "metadata": {},
   "outputs": [],
   "source": [
    "import requests_with_caching\n",
    "import json\n",
    "\n",
    "\n",
    "def get_movie_data(title):\n",
    "    endpoint = 'http://www.omdbapi.com/'\n",
    "    param = {}\n",
    "    param['t'] = title\n",
    "    param['r'] = 'json'\n",
    "    this_page_cache = requests_with_caching.get(endpoint, params=param)\n",
    "    return json.loads(this_page_cache.text)\n",
    "\n",
    "print(get_movie_data(\"Black Panther\")['Ratings'][1])\n",
    "\n",
    "def get_movie_rating(dic):\n",
    "    ranking = dic['Ratings']\n",
    "    for dic_item in ranking:\n",
    "        if dic_item['Source'] == 'Rotten Tomatoes':\n",
    "            return int(dic_item['Value'][:-1])\n",
    "    return 0\n",
    "\n",
    "\n",
    "get_movie_rating(get_movie_data(\"Deadpool 2\"))"
   ]
  },
  {
   "cell_type": "markdown",
   "id": "492e5180",
   "metadata": {},
   "source": [
    "Now, you’ll put it all together. Don’t forget to copy all of the functions that you have previously defined into this code window. Define a function get_sorted_recommendations. It takes a list of movie titles as an input. It returns a sorted list of related movie titles as output, up to five related movies for each input movie title. The movies should be sorted in descending order by their Rotten Tomatoes rating, as returned by the get_movie_rating function. Break ties in reverse alphabetic order, so that ‘Yahşi Batı’ comes before ‘Eyyvah Eyvah’."
   ]
  },
  {
   "cell_type": "code",
   "execution_count": null,
   "id": "4904640e",
   "metadata": {},
   "outputs": [],
   "source": [
    "import requests_with_caching\n",
    "import json\n",
    "\n",
    "def get_movies_from_tastedive(title):\n",
    "    endpoint = 'https://tastedive.com/api/similar'\n",
    "    param = {}\n",
    "    param['q'] = title\n",
    "    param['limit'] = 5\n",
    "    param['type'] = 'movies'\n",
    "    this_page_cache = requests_with_caching.get(endpoint, params=param)\n",
    "    return json.loads(this_page_cache.text)\n",
    "\n",
    "def extract_movie_titles(dic):\n",
    "    list = []\n",
    "    for i in dic['Similar']['Results']:\n",
    "        list.append(i['Name'])\n",
    "    return(list)\n",
    "\n",
    "def get_related_titles(titles_list):\n",
    "    list = []\n",
    "    for i in titles_list:\n",
    "        new_list = extract_movie_titles(get_movies_from_tastedive(i))\n",
    "        for i in new_list:\n",
    "            if i not in list:\n",
    "                list.append(i)\n",
    "    print(list)\n",
    "    return list\n",
    "\n",
    "def get_movie_data(title):\n",
    "    endpoint = 'http://www.omdbapi.com/'\n",
    "    param = {}\n",
    "    param['t'] = title\n",
    "    param['r'] = 'json'\n",
    "    this_page_cache = requests_with_caching.get(endpoint, params=param)\n",
    "    return json.loads(this_page_cache.text)\n",
    "\n",
    "# some invocations that we use in the automated tests; uncomment these if you are getting errors and want better error messages\n",
    "# get_movie_rating(get_movie_data(\"Deadpool 2\"))\n",
    "\n",
    "def get_movie_rating(data):\n",
    "    rating = 0\n",
    "    for i in data['Ratings']:\n",
    "        if i['Source'] == 'Rotten Tomatoes':\n",
    "            rating = int(i['Value'][:-1])\n",
    "            #print(rating)\n",
    "    return rating \n",
    "\n",
    "def get_sorted_recommendations(list):\n",
    "    new_list = get_related_titles(list)\n",
    "    new_dict = {}\n",
    "    for i in new_list:\n",
    "        rating = get_movie_rating(get_movie_data(i))\n",
    "        new_dict[i] = rating\n",
    "    print(new_dict)\n",
    "    #print(sorted(new_dict, reverse=True))\n",
    "    return [i[0] for i in sorted(new_dict.items(), key=lambda item: (item[1], item[0]), reverse=True)]"
   ]
  }
 ],
 "metadata": {
  "kernelspec": {
   "display_name": "Python 3 (ipykernel)",
   "language": "python",
   "name": "python3"
  },
  "language_info": {
   "codemirror_mode": {
    "name": "ipython",
    "version": 3
   },
   "file_extension": ".py",
   "mimetype": "text/x-python",
   "name": "python",
   "nbconvert_exporter": "python",
   "pygments_lexer": "ipython3",
   "version": "3.9.12"
  }
 },
 "nbformat": 4,
 "nbformat_minor": 5
}
